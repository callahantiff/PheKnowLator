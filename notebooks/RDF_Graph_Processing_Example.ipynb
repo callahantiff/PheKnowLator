{
 "cells": [
  {
   "cell_type": "markdown",
   "metadata": {},
   "source": [
    "***\n",
    "***\n",
    "\n",
    "<img width='700' src=\"https://user-images.githubusercontent.com/8030363/108961534-b9a66980-7634-11eb-96e2-cc46589dcb8c.png\" style=\"vertical-align:middle\">\n",
    "\n",
    "## Working with RDF Graphs\n",
    "\n",
    "***\n",
    "\n",
    "**Author:** [TJCallahan](http://tiffanycallahan.com/)  \n",
    "**GitHub Repository:** [PheKnowLator](https://github.com/callahantiff/PheKnowLator/wiki)  \n",
    "**Wiki Page:** [OWL-NETS-2.0](https://github.com/callahantiff/PheKnowLator/wiki/OWL-NETS-2.0)  \n",
    "**Release:** **[v2.0.0](https://github.com/callahantiff/PheKnowLator/wiki/v2.0.0)**  \n",
    "  \n",
    "<br> \n",
    "\n",
    "### Purpose  \n",
    "The goal of this notebook is to provide some examples of how to manipulate RDF ([Resource Description Framework](https://www.w3.org/RDF/)) graphs using the Python libraries [RDFLib](https://rdflib.readthedocs.io/en/stable/_modules/rdflib/compare.html) and [NetworkX](https://networkx.org/). This tutorial will cover the following concepts:  \n",
    "- [Environment Set-Up](#setup)   \n",
    "- [Loading Data](#data-load)     \n",
    "- [Exploring Graphs](#exploring-graphs)  \n",
    "- [Saving, Serializing, and Writing Graphs](#saving-output)    \n",
    "- [Try it Yourself](#try-it-yourself)  \n",
    "\n",
    "\n",
    "#### Resources   \n",
    "- RDFLib  \n",
    "  - [Getting started with RDFLib](https://rdflib.readthedocs.io/en/stable/gettingstarted.html)   \n",
    "- NetworkX\n",
    "  - [Introduction to NetworkX](https://networkx.org/documentation/stable//reference/introduction.html)  \n",
    "  - [Cambridge NetworkX Tutorial](https://www.cl.cam.ac.uk/teaching/1314/L109/tutorial.pdf)  \n",
    "- SPARQL Query\n",
    "  - [Constructing SPARQL Queries](https://www.w3.org/2009/Talks/0615-qbe/)   \n",
    "  - [SPARQL - Medium Article](https://medium.com/wallscope/constructing-sparql-queries-ca63b8b9ac02)\n"
   ]
  },
  {
   "cell_type": "markdown",
   "metadata": {},
   "source": [
    "<br>\n",
    "\n",
    "***  \n",
    "### Set-Up Environment <a class=\"anchor\" id=\"setup\"></a>\n",
    "***  \n",
    "\n",
    "#### Dependencies: [`pkt_kg`](https://pypi.org/project/pkt-kg/), [`networkx`](https://pypi.org/project/networkx/), [`rdflib`](https://pypi.org/project/rdflib/)\n",
    "\n",
    "To prepare for the tutorial we need to make sure that the all needed libraries are downloaded and imported. If you don't already have `pkt_kg`, `networkx` and `rdflib` installed, you can extend the code chunk below to include any libraries that you need to download. In addition to downloading needed libraries, you will also need to download graph data. Each data source is briefly described in the next section.  "
   ]
  },
  {
   "cell_type": "code",
   "execution_count": null,
   "metadata": {},
   "outputs": [],
   "source": [
    "# # uncomment and run to install any required modules from notebooks/requirements.txt\n",
    "# import sys\n",
    "# !{sys.executable} -m pip install -r requirements.txt"
   ]
  },
  {
   "cell_type": "code",
   "execution_count": null,
   "metadata": {},
   "outputs": [],
   "source": [
    "# # if running a local version of pkt_kg, uncomment the code below\n",
    "# import sys\n",
    "# sys.path.append('../')"
   ]
  },
  {
   "cell_type": "code",
   "execution_count": null,
   "metadata": {},
   "outputs": [],
   "source": [
    "# import needed libraries\n",
    "import networkx as nx\n",
    "import os\n",
    "\n",
    "from rdflib import Graph, Namespace, URIRef, BNode, Literal\n",
    "from tqdm.notebook import tqdm\n",
    "\n",
    "from pkt_kg.utils import *  # provides access to helper functions"
   ]
  },
  {
   "cell_type": "code",
   "execution_count": null,
   "metadata": {},
   "outputs": [],
   "source": [
    "# import built-in namespaces\n",
    "from rdflib.namespace import OWL, RDF, RDFS\n",
    "\n",
    "# create namespaces\n",
    "obo = Namespace('http://purl.obolibrary.org/obo/')\n",
    "entrez = Namespace('http://www.ncbi.nlm.nih.gov/gene/')"
   ]
  },
  {
   "cell_type": "markdown",
   "metadata": {},
   "source": [
    "#### Tutorial Data  \n",
    "This tutorial utilizes two separate graphs. The first graph is the [Vaccine Ontology (VO)](http://www.obofoundry.org/ontology/vo.html) and the second graph is one of the [`PheKnowlator`](https://github.com/callahantiff/PheKnowLator) builds. Each of these data sources are briefly described below:  \n",
    "\n",
    "**[`Vaccine Ontology`](http://purl.obolibrary.org/obo/vo.owl)**: For this resource, we will download and utilize the [OWL](https://www.w3.org/TR/owl-features/) file provided by the Open Biomedical Ontologies Foundry. The link used to download this ontology will ensure that no matter when    \n",
    "\n",
    "**[`PheKnowLator Build`](https://storage.googleapis.com/pheknowlator/archived_builds/release_v2.0.0/build_11FEB2021/knowledge_graphs/instance_builds/relations_only/owlnets/PheKnowLator_v2.0.0_full_instance_relationsOnly_noOWL_OWLNETS.nt)**: For this resources, we will utilize data from the `PheKnowLator` instance build, with directed relations, and [`OWL-NETS`](https://github.com/callahantiff/PheKnowLator/wiki/OWL-NETS-2.0) property graph conversion (`PheKnowLator_v2.0.0_full_instance_relationsOnly_noOWL_OWLNETS.nt`). To demonstrate different ways that data can be processed, we will be downloading the data in the [`ntriples`](https://www.w3.org/TR/n-triples/) format.   \n"
   ]
  },
  {
   "cell_type": "code",
   "execution_count": null,
   "metadata": {},
   "outputs": [],
   "source": [
    "# Set global variables\n",
    "write_location = '../temp_dir/'\n",
    "if not os.path.exists(write_location):\n",
    "    os.mkdir(write_location)"
   ]
  },
  {
   "cell_type": "code",
   "execution_count": null,
   "metadata": {},
   "outputs": [],
   "source": [
    "# download data to the temp_dir directory\n",
    "data_urls = [\n",
    "    'http://purl.obolibrary.org/obo/vo.owl',\n",
    "    'https://storage.googleapis.com/pheknowlator/archived_builds/release_v2.0.0/build_25JAN2021/knowledge_graphs/instance_builds/relations_only/owlnets/PheKnowLator_v2.0.0_full_instance_relationsOnly_noOWL_OWLNETS.nt'\n",
    "]\n",
    "\n",
    "for url in data_urls:\n",
    "    file_name = url.split('/')[-1]\n",
    "    if not os.path.exists(write_location + file_name):\n",
    "        data_downloader(url, write_location)"
   ]
  },
  {
   "cell_type": "markdown",
   "metadata": {},
   "source": [
    "<br>\n",
    "\n",
    "***\n",
    "### Loading Data <a class=\"anchor\" id=\"data-load\"></a>\n",
    "***\n",
    "\n",
    "**Relevant Documentation:** [`https://rdflib.readthedocs.io/en/stable/intro_to_parsing.html`](https://rdflib.readthedocs.io/en/stable/intro_to_parsing.html)  \n",
    "\n",
    "This section demonstrates how to load data using `RDFLib`. Please note that there are many different ways that one can load data, which largely depends on the the format of the data you are trying to import. See the link above for details regarding the different types of formats that the library can import.\n",
    "\n",
    "In this tutorial we will be importing data to an `RDFLib` `Graph()` object using two different imports formats:\n",
    "1. `vo.owl` using `xml` format  \n",
    "2. `PheKnowLator_v2.0.0_full_instance_relationsOnly_noOWL_OWLNETS.nt` using `nt` format"
   ]
  },
  {
   "cell_type": "markdown",
   "metadata": {},
   "source": [
    "##### Loading `vo.owl`"
   ]
  },
  {
   "cell_type": "code",
   "execution_count": null,
   "metadata": {},
   "outputs": [],
   "source": [
    "vo_graph = Graph()\n",
    "vo_graph.parse(write_location + 'vo.owl', format='xml')"
   ]
  },
  {
   "cell_type": "markdown",
   "metadata": {},
   "source": [
    "<br>\n",
    "\n",
    "***\n",
    "### Exploring Graphs <a class=\"anchor\" id=\"exploring-graphs\"></a>\n",
    "***"
   ]
  },
  {
   "cell_type": "markdown",
   "metadata": {},
   "source": [
    "Before diving into this tutorial, it's useful to review some of the tutorials on accessing and manipulating `RDFLib` `Graph()` objects. Specifically, it's useful to review the following:  \n",
    "- **[RDFLib Terms](https://rdflib.readthedocs.io/en/stable/rdf_terms.html?highlight=terms)**: `URIRef()`, `Literal()`, and `BNode()`  \n",
    "- **[Triple Pattern Matching](https://rdflib.readthedocs.io/en/stable/intro_to_graphs.html#basic-triple-matching)**: `graph.triples()`, `graph.subjects()`, `graph.objects()`, and `graph.predicates()`  \n",
    "- **[Namespace Utilities](https://rdflib.readthedocs.io/en/stable/apidocs/rdflib.html?highlight=namespace#namespace-utilities)**: Provides description of the built-in namespaces (e.g. `OWL`, `RDF`, `RDFS`, etc...)  \n",
    "- **[SPARQL Queries](https://rdflib.readthedocs.io/en/stable/intro_to_sparql.html):** `graph.query()`"
   ]
  },
  {
   "cell_type": "markdown",
   "metadata": {},
   "source": [
    "#### Graph Descriptives \n",
    "\n",
    "The code chunks below provide different examples of how to obtain counts of different parts of the graph. Specifically, the code below demonstrates how to obtain counts of `owl:Class` and `owl:ObjectProperty`."
   ]
  },
  {
   "cell_type": "markdown",
   "metadata": {},
   "source": [
    "*Approach 1:* Obtain counts using a SPARQL query. `RDFLib` documentation for writing SPARQL queries can be found [here](https://rdflib.readthedocs.io/en/stable/intro_to_sparql.html). "
   ]
  },
  {
   "cell_type": "code",
   "execution_count": null,
   "metadata": {},
   "outputs": [],
   "source": [
    "# Approach 1: SPARQL query -- note the use of OWL and RDF built-in namespaces\n",
    "class_query = vo_graph.query(\n",
    "    \"\"\"SELECT DISTINCT ?class\n",
    "    WHERE {\n",
    "      ?class rdf:type owl:Class .}\n",
    "    \"\"\", initNs={'rdf': RDF,\n",
    "                 'owl': OWL}) \n",
    "\n",
    "print('There are {} owl:Class objects'.format(len(class_query)))"
   ]
  },
  {
   "cell_type": "code",
   "execution_count": null,
   "metadata": {},
   "outputs": [],
   "source": [
    "object_query = vo_graph.query(\n",
    "    \"\"\"SELECT DISTINCT ?object_properties\n",
    "    WHERE {\n",
    "      ?object_properties rdf:type owl:ObjectProperty .}\n",
    "    \"\"\", initNs={'rdf': RDF,\n",
    "                 'owl': OWL}) \n",
    "\n",
    "print('There are {} owl:ObjectProperties objects'.format(len(object_query)))"
   ]
  },
  {
   "cell_type": "markdown",
   "metadata": {},
   "source": [
    "*Approach 2:* Obtain counts using `RDFLib` built-in methods. Specifically, the examples below demonstrate the `subjects()` and `triples()` methods. `RDFLib` documentation for these built-in functions can be found [here](https://rdflib.readthedocs.io/en/stable/intro_to_graphs.html#graph-methods-for-accessing-triples). "
   ]
  },
  {
   "cell_type": "code",
   "execution_count": null,
   "metadata": {},
   "outputs": [],
   "source": [
    "# Approach 2: Iterate over RDFLib graph object\n",
    "classes = list(vo_graph.subjects(RDF.type, OWL.Class))\n",
    "objects = list(vo_graph.subjects(RDF.type, OWL.ObjectProperty))\n",
    "triples = list(vo_graph.triples((None, None, None)))\n",
    "\n",
    "print('There are {} triples, {} owl:Class objects, and {} owl:ObjectProperties objects'.format(len(triples),\n",
    "                                                                                               len(classes),\n",
    "                                                                                               len(objects)))"
   ]
  },
  {
   "cell_type": "markdown",
   "metadata": {},
   "source": [
    "#### Helpful Functions\n",
    "The next code sections provide examples of how to access different types of information from an `RDF` graph."
   ]
  },
  {
   "cell_type": "code",
   "execution_count": null,
   "metadata": {},
   "outputs": [],
   "source": [
    "# get labels for the URI VO_0002186 -- see two different ways to reference a URI\n",
    "# using obo namespace\n",
    "vo_0002186_label = vo_graph.label(obo.VO_0002186)\n",
    "print(str(vo_0002186_label))"
   ]
  },
  {
   "cell_type": "code",
   "execution_count": null,
   "metadata": {},
   "outputs": [],
   "source": [
    "# using RDFLIb URIRef term\n",
    "vo_0002186_label = vo_graph.label(URIRef('http://purl.obolibrary.org/obo/VO_0002186'))\n",
    "print(str(vo_0002186_label))"
   ]
  },
  {
   "cell_type": "code",
   "execution_count": null,
   "metadata": {},
   "outputs": [],
   "source": [
    "# get all triples that VO_0002186 participates in\n",
    "VO_0002186_triples = list(vo_graph.triples((obo.VO_0002186, None, None))) +\\\n",
    "                     list(vo_graph.triples((None, None, obo.VO_0002186)))\n",
    "\n",
    "for s, p, o in tqdm(VO_0002186_triples):\n",
    "#     print(s, p, o)\n",
    "    print(str(s).split('/')[-1], str(p).split('/')[-1], str(o).split('/')[-1] + '\\n')  # converting entities to str"
   ]
  },
  {
   "cell_type": "code",
   "execution_count": null,
   "metadata": {},
   "outputs": [],
   "source": [
    "# get all owl:ObjectProperty objects\n",
    "vo_obj_props = list(vo_graph.subjects(RDF.type, OWL.ObjectProperty))\n",
    "\n",
    "for p in tqdm(vo_obj_props):\n",
    "    print(p)"
   ]
  },
  {
   "cell_type": "markdown",
   "metadata": {},
   "source": [
    "#### Obtaining Detailed Network Statistics  \n",
    "While `RDFLib` is a great library for building `RDF` graphs, it lacks functionality to obtain some of the more traditional network statistics. In order to be able to use the `NetworkX` functions, we first need to convert the `RDFLib` `Graph()` object into a `NetworkX` [MultiDiGraph](https://networkx.github.io/documentation/stable/reference/classes/multidigraph.html). You will notice, if you read the `RDFLib` documentation that there are methods that will do this for you. In my experience, they are incredibly slow, it's much faster to use the code shown below.\n",
    "\n",
    "From [this](https://networkx.org/documentation/stable/reference/classes/multidigraph.html) `NetworkX` documentation:  \n",
    "> A directed graph class that can store multiedges.  \n",
    ">  \n",
    "> Multiedges are multiple edges between two nodes. Each edge can hold optional data or attributes.  \n",
    ">  \n",
    "> A MultiDiGraph holds directed edges. Self loops are allowed.  \n",
    ">  \n",
    "> Nodes can be arbitrary (hashable) Python objects with optional key/value attributes. By convention None is not used as a node. \n",
    ">  \n",
    "> Edges are represented as links between nodes with optional key/value attributes."
   ]
  },
  {
   "cell_type": "code",
   "execution_count": null,
   "metadata": {},
   "outputs": [],
   "source": [
    "# convert RDFLib graph to Networkx MultiDiGraph\n",
    "nx_graph = nx.MultiDiGraph()\n",
    "\n",
    "for s, p, o in tqdm(vo_graph):\n",
    "    nx_graph.add_edge(s, o, **{'key': p})"
   ]
  },
  {
   "cell_type": "code",
   "execution_count": null,
   "metadata": {},
   "outputs": [],
   "source": [
    "# get the number of nodes, edges, and self-loops\n",
    "nodes = nx.number_of_nodes(nx_graph)\n",
    "edges = nx.number_of_edges(nx_graph)\n",
    "self_loops = nx.number_of_selfloops(nx_graph)\n",
    "\n",
    "print('There are {} nodes, {} edges, and {} self-loop(s)'.format(nodes, edges, self_loops))"
   ]
  },
  {
   "cell_type": "code",
   "execution_count": null,
   "metadata": {},
   "outputs": [],
   "source": [
    "# get degree information\n",
    "avg_degree = float(edges) / nodes\n",
    "\n",
    "print('The Average Degree is {}'.format(avg_degree))"
   ]
  },
  {
   "cell_type": "code",
   "execution_count": null,
   "metadata": {},
   "outputs": [],
   "source": [
    "# get 5 nodes with the highest degress\n",
    "n_deg = sorted([(str(x[0]), x[1]) for x in  nx_graph.degree], key=lambda x: x[1], reverse=1)[:6]\n",
    "\n",
    "for x in n_deg:\n",
    "    print('{} (degree={})'.format(x[0], x[1]))"
   ]
  },
  {
   "cell_type": "code",
   "execution_count": null,
   "metadata": {},
   "outputs": [],
   "source": [
    "# get network density\n",
    "density = nx.density(nx_graph)\n",
    "\n",
    "print('The density of the graph is: {}'.format(density))"
   ]
  },
  {
   "cell_type": "code",
   "execution_count": null,
   "metadata": {},
   "outputs": [],
   "source": [
    "# get connected components -- have to convert MultiDiGraph to undirected graph\n",
    "nx_graph_und = nx_graph.to_undirected()\n",
    "\n",
    "# get connected components\n",
    "components = sorted(list(nx.connected_components(nx_graph_und)), key=len, reverse=True)\n",
    "cc_content = {x: str(len(components[x])) + ' nodes: ' + ' | '.join(components[x]) if len(components[x]) < 500\n",
    "              else len(components[x]) for x in range(len(components))}\n",
    "\n",
    "for k, v in cc_content.items():\n",
    "    if isinstance(v, int):\n",
    "        print('COMPONENT: {} Consists of {} nodes'.format(str(k), str(v)))\n",
    "    else:\n",
    "        print('\\nCOMPONENT: {} Consists of the following nodes:'.format(str(k)))\n",
    "        for node in v.split(': ')[-1].split(' | '):\n",
    "            print(node)"
   ]
  },
  {
   "cell_type": "markdown",
   "metadata": {},
   "source": [
    "##### Shortest Path\n",
    "\n",
    "This chunk shows how to find the shortest path between a starting node and all nodes reachable from that node. From [this](https://networkx.org/documentation/stable//reference/algorithms/generated/networkx.algorithms.shortest_paths.unweighted.single_source_shortest_path.html#networkx.algorithms.shortest_paths.unweighted.single_source_shortest_path) `NetworkX` page:  \n",
    "\n",
    "> Compute shortest path between source and all other nodes reachable from source.\n",
    "> \n",
    "> **Parameters:**\n",
    ">   - G (NetworkX graph)\n",
    ">   - source (node label) – Starting node for path\n",
    ">   - cutoff (integer, optional) – Depth to stop the search. Only paths of length <= cutoff are returned.\n",
    "> \n",
    "> **Returns:**   \n",
    ">   lengths – Dictionary, keyed by target, of shortest paths.  \n",
    ">\n",
    "> **Return type:**  \n",
    "> dictionary"
   ]
  },
  {
   "cell_type": "code",
   "execution_count": null,
   "metadata": {},
   "outputs": [],
   "source": [
    "# get shortest path from VO_0002186\n",
    "vo_0002186_path = nx.single_source_shortest_path(nx_graph, obo.VO_0002186)\n",
    "\n",
    "for k, v in vo_0002186_path.items():\n",
    "    if k != obo.VO_0002186:\n",
    "        print('\\n{} - {} Path:'.format(str(obo.VO_0002186).split('/')[-1], str(k).split('/')[-1]))\n",
    "        for i in v:\n",
    "            print(i)"
   ]
  },
  {
   "cell_type": "markdown",
   "metadata": {},
   "source": [
    "<br>\n",
    "\n",
    "***\n",
    "### Saving, Serializing, and Writing Graphs <a class=\"anchor\" id=\"saving-output\"></a>\n",
    "***\n",
    "\n",
    "Below, I provide examples for how to save data using `NetworkX` and `RDFLib`."
   ]
  },
  {
   "cell_type": "markdown",
   "metadata": {},
   "source": [
    "#### NetworkX  \n",
    "**Documentation:** [Reading and Writing Data](https://networkx.org/documentation/stable//reference/readwrite/index.html?highlight=write%20data)\n",
    "\n",
    "Here, I provide an example of how to save the `MultiDiGraph` version of the `vo_graph` object so it can be used in the future without having to create it from the `RDFLib` graph object."
   ]
  },
  {
   "cell_type": "code",
   "execution_count": null,
   "metadata": {},
   "outputs": [],
   "source": [
    "# save multidigraph version of graph\n",
    "nx.write_gpickle(nx_graph, write_location + 'vo_NetworkxMultiDiGraph.gpickle')\n",
    "\n",
    "# read in multidigraph version of graph\n",
    "# nx_graph = nx.read_gpickle(write_location + 'vo_NetworkxMultiDiGraph.gpickle')"
   ]
  },
  {
   "cell_type": "markdown",
   "metadata": {},
   "source": [
    "#### RDFLib  \n",
    "**Documentation:** [Graph Serialization](https://rdflib.readthedocs.io/en/latest/apidocs/rdflib.html#rdflib.graph.Graph.serialize)\n",
    "\n",
    "Here, I provide an example of how to save the `vo_graph` object as an `OWL` file and as an `n-triples` file."
   ]
  },
  {
   "cell_type": "code",
   "execution_count": null,
   "metadata": {},
   "outputs": [],
   "source": [
    "# save vo_graph as `ntriple` format\n",
    "vo_graph.serialize(write_location + 'vo_graph_data.nt', format='nt')"
   ]
  },
  {
   "cell_type": "code",
   "execution_count": null,
   "metadata": {},
   "outputs": [],
   "source": [
    "# save vo_graph as OWL (i.e. RDF/XML)\n",
    "vo_graph.serialize(write_location + 'vo_graph_data.owl', format='xml')"
   ]
  },
  {
   "cell_type": "markdown",
   "metadata": {},
   "source": [
    "<br>\n",
    "\n",
    "***\n",
    "### Try it Out for Yourself - Explore the PheKnowLator Graph Build <a class=\"anchor\" id=\"try-it-yourself\"></a>\n",
    "***\n",
    "\n",
    "You will notice that while we downloaded the `pkt_kg` graph data `PheKnowLator_v2.0.0_full_instance_relationsOnly_noOWL_OWLNETS.nt`, we never used it. The remainder of this tutorial is left for you. I encourage you to use the functionality introduced above to explore this graph. If you do something interesting and want to share it, please make a pull-request and add it to this tutorial!"
   ]
  },
  {
   "cell_type": "markdown",
   "metadata": {},
   "source": [
    "##### Loading `PheKnowLator_v2.0.0_full_instance_relationsOnly_noOWL_OWLNETS.nt`  \n",
    "\n",
    "Please note that running the chunk below can take up to 45 min as the file is 2.0 GB."
   ]
  },
  {
   "cell_type": "code",
   "execution_count": null,
   "metadata": {},
   "outputs": [],
   "source": [
    "pkt_graph = Graph()\n",
    "pkt_graph.parse(write_location + 'PheKnowLator_v2.0.0_full_instance_relationsOnly_noOWL_OWLNETS.nt', format='nt')"
   ]
  },
  {
   "cell_type": "code",
   "execution_count": null,
   "metadata": {},
   "outputs": [],
   "source": [
    "# get basic descriptive statistics\n",
    "nodes = set(list(pkt_graph.subjects()) + list(pkt_graph.objects()))\n",
    "rels = set(list(pkt_graph.predicates()))\n",
    "\n",
    "# print stats\n",
    "print('Graph Stats: {} triples, {} nodes, {} predicates'.format(len(pkt_graph), len(nodes), len(rels)))"
   ]
  },
  {
   "cell_type": "markdown",
   "metadata": {},
   "source": [
    "##### Create Subgraph  \n",
    "\n",
    "Create a subgraph from the `pkt_kg` build that only contains the following types of edges: `gene-drug`, `drug-disease`, `gene-disease`. To do this, we filter the graph first by relation and then by node types. Examples for each relation type are listed below:  \n",
    "\n",
    "`drug-gene`: \n",
    "- Find all triples that include the predicate: *interacts with* (`obo:RO_0002434`)  \n",
    "  - Only keep subjects with the following URI: `obo:CHEBI_XXXXXXX`  \n",
    "  - Only keep objects with the following URI: `http://www.ncbi.nlm.nih.gov/gene/`\n",
    "\n",
    "`drug-disease`:  \n",
    "- Find all triples that include the predicate: *substance that treats* (`obo:RO_0002606`)  \n",
    "  - Only keep subjects with the following URI: `obo:CHEBI_XXXXXXX`  \n",
    "  - Only keep objects with the following URI: `obo:MONDO_XXXXXXX`\n",
    "\n",
    "`gene-disease`:  \n",
    "- Find all triples that include the predicate: *causes or contributes to* (`obo.RO_0003302`)  \n",
    "  - Only keep subjects with the following URI: `http://www.ncbi.nlm.nih.gov/gene/X`  \n",
    "  - Only keep objects with the following URI: `obo:MONDO_XXXXXXX`"
   ]
  },
  {
   "cell_type": "code",
   "execution_count": null,
   "metadata": {},
   "outputs": [],
   "source": [
    "def filters_edge_data(graph, relation, subj, obj):\n",
    "    \"\"\"Method takes an input RDFLib graph and filters it using an the input relation, subj, and obj variables.\n",
    "    \n",
    "    Args:\n",
    "        graph: An RDFLib Graph object.\n",
    "        relation: A URIRef object containing a Relation Ontology relation. \n",
    "        subj: A URIRef object containing information to filter subjects by.\n",
    "        obj: A URIRef object containing information to filter objects by.\n",
    "    \n",
    "    Returns:\n",
    "        filtered_edges: \n",
    "    \"\"\"\n",
    "    \n",
    "    filtered_triples = []\n",
    "\n",
    "    for s, p, o in tqdm(graph):\n",
    "        if p == relation:\n",
    "            if str(s).startswith(str(subj)) and str(o).startswith(str(obj)):\n",
    "                filtered_triples += [(s, p, o)]\n",
    "    \n",
    "    return filtered_triples"
   ]
  },
  {
   "cell_type": "code",
   "execution_count": null,
   "metadata": {},
   "outputs": [],
   "source": [
    "# get gene-drug edges - then keep subjects with \n",
    "drug_gene_triples = filters_edge_data(graph=pkt_graph,\n",
    "                                      relation=obo.RO_0002434,\n",
    "                                      subj=obo.CHEBI,\n",
    "                                      obj=entrez)\n",
    "\n",
    "print('There are {} drug-gene edges'.format(len(drug_gene_triples)))"
   ]
  },
  {
   "cell_type": "code",
   "execution_count": null,
   "metadata": {},
   "outputs": [],
   "source": [
    "# get drug-disease edges\n",
    "drug_disease_triples = filters_edge_data(graph=pkt_graph,\n",
    "                                         relation=obo.RO_0002606,\n",
    "                                         subj=obo.CHEBI,\n",
    "                                         obj=obo.MONDO)\n",
    "\n",
    "print('There are {} drug-disease edges'.format(len(drug_disease_triples)))"
   ]
  },
  {
   "cell_type": "code",
   "execution_count": null,
   "metadata": {},
   "outputs": [],
   "source": [
    "# get gene-disease edges\n",
    "gene_disease_triples = filters_edge_data(graph=pkt_graph,\n",
    "                                         relation=obo.RO_0003302,\n",
    "                                         subj=entrez,\n",
    "                                         obj=obo.MONDO)\n",
    "\n",
    "print('There are {} gene-disease edges'.format(len(gene_disease_triples)))"
   ]
  },
  {
   "cell_type": "code",
   "execution_count": null,
   "metadata": {},
   "outputs": [],
   "source": [
    "# combine triples into single graph\n",
    "filtered_edges = drug_gene_triples + drug_disease_triples + gene_disease_triples\n",
    "gene_drug_disease_graph = adds_edges_to_graph(Graph(), filtered_edges)\n",
    "\n",
    "print('The drug-gene-disease Subgraph contains {} triples'.format(len(gene_drug_disease_graph)))"
   ]
  },
  {
   "cell_type": "markdown",
   "metadata": {},
   "source": [
    "##### Convert Subgraph to NetworkX MultiDiGraph"
   ]
  },
  {
   "cell_type": "code",
   "execution_count": null,
   "metadata": {},
   "outputs": [],
   "source": [
    "# convert RDFLib graph to Networkx MultiDiGraph\n",
    "nx_graph_dgd = nx.MultiDiGraph()\n",
    "\n",
    "for s, p, o in tqdm(gene_drug_disease_graph):\n",
    "    nx_graph_dgd.add_edge(s, o, **{'key': p})"
   ]
  },
  {
   "cell_type": "markdown",
   "metadata": {},
   "source": [
    "##### Get Graph Descriptives"
   ]
  },
  {
   "cell_type": "code",
   "execution_count": null,
   "metadata": {},
   "outputs": [],
   "source": [
    "# get the number of nodes, edges, and self-loops\n",
    "nodes = nx.number_of_nodes(nx_graph_dgd)\n",
    "edges = nx.number_of_edges(nx_graph_dgd)\n",
    "avg_degree = float(edges) / nodes\n",
    "\n",
    "print('There are {} nodes, {} edges, and has an average degree of {}'.format(nodes, edges, avg_degree))"
   ]
  },
  {
   "cell_type": "code",
   "execution_count": null,
   "metadata": {},
   "outputs": [],
   "source": [
    "# get 5 nodes with the highest degress\n",
    "n_deg = sorted([(str(x[0]), x[1]) for x in  nx_graph_dgd.degree], key=lambda x: x[1], reverse=1)[:6]\n",
    "\n",
    "for x in n_deg:\n",
    "    print('{} (degree={})'.format(x[0], x[1]))"
   ]
  },
  {
   "cell_type": "code",
   "execution_count": null,
   "metadata": {},
   "outputs": [],
   "source": [
    "# get connected components -- have to convert MultiDiGraph to undirected graph\n",
    "nx_graph_und = nx_graph_dgd.to_undirected()\n",
    "\n",
    "# get connected components\n",
    "components = sorted(list(nx.connected_components(nx_graph_und)), key=len, reverse=True)\n",
    "cc_content = {x: str(len(components[x])) + ' nodes: ' + ' | '.join(components[x]) if len(components[x]) < 500\n",
    "              else len(components[x]) for x in range(len(components))}\n",
    "\n",
    "for k, v in cc_content.items():\n",
    "    if isinstance(v, int):\n",
    "        print('COMPONENT: {} Consists of {} nodes'.format(str(k), str(v)))\n",
    "    else:\n",
    "        print('\\nCOMPONENT: {} Consists of the following nodes:'.format(str(k)))\n",
    "        for node in v.split(': ')[-1].split(' | '):\n",
    "            print(node)"
   ]
  },
  {
   "cell_type": "markdown",
   "metadata": {},
   "source": [
    "##### Explore Graph\n",
    "\n",
    "Example shown below searches for all shortest paths between valporic acid ([CHEBI_39867](https://www.ebi.ac.uk/chebi/searchId.do?chebiId=CHEBI:39867)) and all other targets in the graph. This search returns several results, one example is shown below:\n",
    "\n",
    "> **Path between CHEBI_39867 - MONDO_0012489:**  \n",
    "> http://purl.obolibrary.org/obo/CHEBI_39867  \n",
    "> http://www.ncbi.nlm.nih.gov/gene/1413  \n",
    "> http://purl.obolibrary.org/obo/MONDO_0012489  \n",
    "\n",
    "\n",
    "Where [entrez gene 1413](http://www.ncbi.nlm.nih.gov/gene/1413) is CRYBA4 (crystallin beta A4) and [MONDO_0012489](http://www.ontobee.org/ontology/MONDO?iri=http://purl.obolibrary.org/obo/MONDO_0012489) is early-onset non-syndromic cataract caused by mutation in `CRYBA4`. A quick Googling returns several relevant results to connect these entities."
   ]
  },
  {
   "cell_type": "code",
   "execution_count": null,
   "metadata": {},
   "outputs": [],
   "source": [
    "# perform bidirectional search for path between -- epilepsy and valporic acid\n",
    "nx.bidirectional_shortest_path(nx_graph_dgd, obo.CHEBI_39867, obo.MONDO_0005027)"
   ]
  },
  {
   "cell_type": "code",
   "execution_count": null,
   "metadata": {},
   "outputs": [],
   "source": [
    "# look at shortest path between \n",
    "shortest_paths = nx.shortest_path(nx_graph_dgd, source=obo.CHEBI_39867)\n",
    "\n",
    "for k, v in shortest_paths.items():\n",
    "    if k != obo.CHEBI_39867:\n",
    "        print('\\n{} - {} Path:'.format(str(obo.CHEBI_39867).split('/')[-1], str(k).split('/')[-1]))\n",
    "        for i in v:\n",
    "            print(i)"
   ]
  },
  {
   "cell_type": "markdown",
   "metadata": {},
   "source": [
    "##### Save Output"
   ]
  },
  {
   "cell_type": "code",
   "execution_count": null,
   "metadata": {},
   "outputs": [],
   "source": [
    "# save subgraph\n",
    "gene_drug_disease_graph.serialize(write_location + 'pkt_DrugGeneDisease_subgraph.nt', format='nt')\n",
    "nx.write_gpickle(nx_graph_dgd, write_location + 'pkt_DrugGeneDisease_NetworkxMultiDiGraph.gpickle')"
   ]
  }
 ],
 "metadata": {
  "kernelspec": {
   "display_name": "Python 3",
   "language": "python",
   "name": "python3"
  },
  "language_info": {
   "codemirror_mode": {
    "name": "ipython",
    "version": 3
   },
   "file_extension": ".py",
   "mimetype": "text/x-python",
   "name": "python",
   "nbconvert_exporter": "python",
   "pygments_lexer": "ipython3",
   "version": "3.6.2"
  }
 },
 "nbformat": 4,
 "nbformat_minor": 4
}
